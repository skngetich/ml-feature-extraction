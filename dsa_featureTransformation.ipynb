{
 "cells": [
  {
   "cell_type": "markdown",
   "id": "1c523373",
   "metadata": {},
   "source": [
    "# Agenda\n",
    "Data preprocessing is an important stage of data mining. In this exercise, we perform feature transformation as a preprocessing task. There are two main categories under feature transformation: feature normalization and feature discretization. This exercise illustrates a few transformation techniques under each category. The content for the remainder of this guide is as follows.\n",
    "\n",
    "## Table of Contents\n",
    "1. [Python Libraries](#libraries)  \n",
    "    1.1. [Installing Python Libraries](#lib-install)  \n",
    "    1.2. [Importing Python Libraries](#lib-import)  \n",
    "2. [Loading (dummy) Data Set](#dataset)\n",
    "3. [Feature Transformation](#transformation)  \n",
    "    3.1. [Feature Normalization](#normalization)   \n",
    "    3.2. [Feature Discretization](#discretization)  \n",
    "4. [Exercise: Feature Transformation on UCI Data set](#exercise) \n",
    "  \n",
    "    \n",
    "# 1. Python Libraries <a name=\"libraries\"></a>\n",
    "## 1.1. Install Python libraries <a name=\"lib-install\"></a>\n",
    "This exercise will requires the following **Python** libraries:\n",
    "\n",
    "<ul>\n",
    "    <li><strong>numpy:</strong> numerical computations</li>\n",
    "    <li><strong>pandas:</strong> data manipulation using DataFrames</li>\n",
    "    <li><strong>scikit learn:</strong> predictive data analysis</li>\n",
    "    <li><strong>matplotlib:</strong> plotting graphs</li>\n",
    "    <li><strong>seaborn:</strong> nice graph visualization</li>\n",
    "</ul>\n"
   ]
  },
  {
   "cell_type": "code",
   "execution_count": 4,
   "id": "d60c4e64",
   "metadata": {},
   "outputs": [],
   "source": [
    "# Installing Libraries (if not installed)\n",
    "#! pip3 install matplotlib\n",
    "#! pip3 install scikit-learn\n",
    "#! pip3 install seaborn\n",
    "#! pip3 install numpy\n",
    "#! pip3 install pandas"
   ]
  },
  {
   "cell_type": "markdown",
   "id": "40afdf01",
   "metadata": {},
   "source": [
    "## 1.2. Import libraries <a name=\"lib-import\"></a>"
   ]
  },
  {
   "cell_type": "code",
   "execution_count": 5,
   "id": "ffc27131",
   "metadata": {},
   "outputs": [],
   "source": [
    "# Importing Libraries\n",
    "import pandas as pd\n",
    "import numpy as np\n",
    "import matplotlib.pyplot as plt\n",
    "import seaborn as sns"
   ]
  },
  {
   "cell_type": "markdown",
   "id": "d934cddb",
   "metadata": {},
   "source": [
    "# 2. Loading (dummy) Data Set <a name=\"dataset\"></a>\n",
    "In this section, we load a dummy data set into a Pandas DataFrame.\n",
    "\n",
    "1. upload a dummy data set and \n",
    "2. load it into a Pandas DataFrame"
   ]
  },
  {
   "cell_type": "code",
   "execution_count": 6,
   "id": "ff0b7ac2",
   "metadata": {},
   "outputs": [
    {
     "output_type": "execute_result",
     "data": {
      "text/plain": [
       "   Gender  Age  Marks Scholarship  Awards  Position\n",
       "0       M   16   70.0           N       3         5\n",
       "1       F   17   60.5           Y       5        10\n",
       "2       F   15   90.2           Y       4         2\n",
       "3       M   14   50.8           Y       2        13\n",
       "4       M   18   40.0           Y       1        16\n",
       "5       F   13   42.3           Y       2        14\n",
       "6       M   15   41.6           N       3        15\n",
       "7       M   15   53.9           N       4        12\n",
       "8       M   16   54.1           Y       2        11\n",
       "9       F   14   65.7           N       1         8\n",
       "10      F   15   72.8           Y       2         4\n",
       "11      F   16   85.0           N       3         3\n",
       "12      M   16   32.0           Y       4        17\n",
       "13      M   18   67.4           N       5         7\n",
       "14      F   15   27.9           N       2        18\n",
       "15      M   16   68.8           Y       3         6\n",
       "16      F   13   64.2           Y       1         9\n",
       "17      F   18   92.7           Y       4         1"
      ],
      "text/html": "<div>\n<style scoped>\n    .dataframe tbody tr th:only-of-type {\n        vertical-align: middle;\n    }\n\n    .dataframe tbody tr th {\n        vertical-align: top;\n    }\n\n    .dataframe thead th {\n        text-align: right;\n    }\n</style>\n<table border=\"1\" class=\"dataframe\">\n  <thead>\n    <tr style=\"text-align: right;\">\n      <th></th>\n      <th>Gender</th>\n      <th>Age</th>\n      <th>Marks</th>\n      <th>Scholarship</th>\n      <th>Awards</th>\n      <th>Position</th>\n    </tr>\n  </thead>\n  <tbody>\n    <tr>\n      <th>0</th>\n      <td>M</td>\n      <td>16</td>\n      <td>70.0</td>\n      <td>N</td>\n      <td>3</td>\n      <td>5</td>\n    </tr>\n    <tr>\n      <th>1</th>\n      <td>F</td>\n      <td>17</td>\n      <td>60.5</td>\n      <td>Y</td>\n      <td>5</td>\n      <td>10</td>\n    </tr>\n    <tr>\n      <th>2</th>\n      <td>F</td>\n      <td>15</td>\n      <td>90.2</td>\n      <td>Y</td>\n      <td>4</td>\n      <td>2</td>\n    </tr>\n    <tr>\n      <th>3</th>\n      <td>M</td>\n      <td>14</td>\n      <td>50.8</td>\n      <td>Y</td>\n      <td>2</td>\n      <td>13</td>\n    </tr>\n    <tr>\n      <th>4</th>\n      <td>M</td>\n      <td>18</td>\n      <td>40.0</td>\n      <td>Y</td>\n      <td>1</td>\n      <td>16</td>\n    </tr>\n    <tr>\n      <th>5</th>\n      <td>F</td>\n      <td>13</td>\n      <td>42.3</td>\n      <td>Y</td>\n      <td>2</td>\n      <td>14</td>\n    </tr>\n    <tr>\n      <th>6</th>\n      <td>M</td>\n      <td>15</td>\n      <td>41.6</td>\n      <td>N</td>\n      <td>3</td>\n      <td>15</td>\n    </tr>\n    <tr>\n      <th>7</th>\n      <td>M</td>\n      <td>15</td>\n      <td>53.9</td>\n      <td>N</td>\n      <td>4</td>\n      <td>12</td>\n    </tr>\n    <tr>\n      <th>8</th>\n      <td>M</td>\n      <td>16</td>\n      <td>54.1</td>\n      <td>Y</td>\n      <td>2</td>\n      <td>11</td>\n    </tr>\n    <tr>\n      <th>9</th>\n      <td>F</td>\n      <td>14</td>\n      <td>65.7</td>\n      <td>N</td>\n      <td>1</td>\n      <td>8</td>\n    </tr>\n    <tr>\n      <th>10</th>\n      <td>F</td>\n      <td>15</td>\n      <td>72.8</td>\n      <td>Y</td>\n      <td>2</td>\n      <td>4</td>\n    </tr>\n    <tr>\n      <th>11</th>\n      <td>F</td>\n      <td>16</td>\n      <td>85.0</td>\n      <td>N</td>\n      <td>3</td>\n      <td>3</td>\n    </tr>\n    <tr>\n      <th>12</th>\n      <td>M</td>\n      <td>16</td>\n      <td>32.0</td>\n      <td>Y</td>\n      <td>4</td>\n      <td>17</td>\n    </tr>\n    <tr>\n      <th>13</th>\n      <td>M</td>\n      <td>18</td>\n      <td>67.4</td>\n      <td>N</td>\n      <td>5</td>\n      <td>7</td>\n    </tr>\n    <tr>\n      <th>14</th>\n      <td>F</td>\n      <td>15</td>\n      <td>27.9</td>\n      <td>N</td>\n      <td>2</td>\n      <td>18</td>\n    </tr>\n    <tr>\n      <th>15</th>\n      <td>M</td>\n      <td>16</td>\n      <td>68.8</td>\n      <td>Y</td>\n      <td>3</td>\n      <td>6</td>\n    </tr>\n    <tr>\n      <th>16</th>\n      <td>F</td>\n      <td>13</td>\n      <td>64.2</td>\n      <td>Y</td>\n      <td>1</td>\n      <td>9</td>\n    </tr>\n    <tr>\n      <th>17</th>\n      <td>F</td>\n      <td>18</td>\n      <td>92.7</td>\n      <td>Y</td>\n      <td>4</td>\n      <td>1</td>\n    </tr>\n  </tbody>\n</table>\n</div>"
     },
     "metadata": {},
     "execution_count": 6
    }
   ],
   "source": [
    "df = pd.read_csv('sample_2.csv', sep=';')\n",
    "df"
   ]
  },
  {
   "cell_type": "markdown",
   "id": "7cc07174",
   "metadata": {},
   "source": [
    "# 3. Feature Transformation <a name=\"transformation\"></a>\n",
    "This exercise is adopted from:\n",
    "\n",
    "* [How To Discretize a Variable in Python](https://cmdlinetips.com/2019/12/how-to-discretize-bin-a-variable-in-python/) and  \n",
    "* [Hands-on with Feature Engineering Techniques](https://heartbeat.fritz.ai/hands-on-with-feature-engineering-techniques-variable-discretization-7deb6a5c6e27)\n",
    "\n",
    "## 3.1. Feature Normalization <a name=\"normalization\"></a>\n",
    "\n",
    "In this section, we normalize the dummy data set using the following techniques:\n",
    "\n",
    "1. decimal scaling  \n",
    "2. Min-Max scaling  \n",
    "3. Z-score normalization  \n",
    "\n",
    "### 3.1.1 Decimal Scaling <a name=\"decimal\"></a>\n",
    "To normalize our data using the Decimal scaling, we use a **for-loop** that computes the decimal values of each data point."
   ]
  },
  {
   "cell_type": "code",
   "execution_count": 9,
   "id": "d0b66854",
   "metadata": {},
   "outputs": [
    {
     "output_type": "stream",
     "name": "stdout",
     "text": [
      "    Age  Marks  Awards  Position\n0    16   70.0       3         5\n1    17   60.5       5        10\n2    15   90.2       4         2\n3    14   50.8       2        13\n4    18   40.0       1        16\n5    13   42.3       2        14\n6    15   41.6       3        15\n7    15   53.9       4        12\n8    16   54.1       2        11\n9    14   65.7       1         8\n10   15   72.8       2         4\n11   16   85.0       3         3\n12   16   32.0       4        17\n13   18   67.4       5         7\n14   15   27.9       2        18\n15   16   68.8       3         6\n16   13   64.2       1         9\n17   18   92.7       4         1\nmax: $18 J: 2\nmax: $92.7 J: 2\nmax: $5 J: 1\nmax: $18 J: 2\n\n     Age  Marks  Awards  Position\n0   0.16  0.700     0.3      0.05\n1   0.17  0.605     0.5      0.10\n2   0.15  0.902     0.4      0.02\n3   0.14  0.508     0.2      0.13\n4   0.18  0.400     0.1      0.16\n5   0.13  0.423     0.2      0.14\n6   0.15  0.416     0.3      0.15\n7   0.15  0.539     0.4      0.12\n8   0.16  0.541     0.2      0.11\n9   0.14  0.657     0.1      0.08\n10  0.15  0.728     0.2      0.04\n11  0.16  0.850     0.3      0.03\n12  0.16  0.320     0.4      0.17\n13  0.18  0.674     0.5      0.07\n14  0.15  0.279     0.2      0.18\n15  0.16  0.688     0.3      0.06\n16  0.13  0.642     0.1      0.09\n17  0.18  0.927     0.4      0.01\n"
     ]
    }
   ],
   "source": [
    "X = df[['Age','Marks','Awards','Position']]\n",
    "print(X)\n",
    "\n",
    "X_scale = X.copy()\n",
    "\n",
    "# for x in df:\n",
    "for var in X_scale:\n",
    "    max_ = X_scale[var].max()\n",
    "    j = len(str(abs(int(max_))))\n",
    "    print(f\"max: ${max_} J: {j}\")\n",
    "    X_scale[var] = X_scale[var]/10**j\n",
    "    \n",
    "    \n",
    "X_scale = pd.DataFrame(data=X_scale, columns=['Age','Marks','Awards','Position'])\n",
    "\n",
    "print()\n",
    "print(X_scale)"
   ]
  },
  {
   "cell_type": "markdown",
   "id": "71666b4f",
   "metadata": {},
   "source": [
    "### 3.1.2. Min-Max Scaling <a name=\"min-max\"></a>\n",
    "To normalize your data, we import the **MinMaxScalar** from the **_sklearn_** library and apply it to our dataset. "
   ]
  },
  {
   "cell_type": "code",
   "execution_count": 14,
   "id": "1bd90027",
   "metadata": {},
   "outputs": [
    {
     "output_type": "stream",
     "name": "stdout",
     "text": [
      "    Age  Marks  Awards  Position\n0    16   70.0       3         5\n1    17   60.5       5        10\n2    15   90.2       4         2\n3    14   50.8       2        13\n4    18   40.0       1        16\n5    13   42.3       2        14\n6    15   41.6       3        15\n7    15   53.9       4        12\n8    16   54.1       2        11\n9    14   65.7       1         8\n10   15   72.8       2         4\n11   16   85.0       3         3\n12   16   32.0       4        17\n13   18   67.4       5         7\n14   15   27.9       2        18\n15   16   68.8       3         6\n16   13   64.2       1         9\n17   18   92.7       4         1\n\n    Age     Marks  Awards  Position\n0   0.6  0.649691    0.50  0.235294\n1   0.8  0.503086    1.00  0.529412\n2   0.4  0.961420    0.75  0.058824\n3   0.2  0.353395    0.25  0.705882\n4   1.0  0.186728    0.00  0.882353\n5   0.0  0.222222    0.25  0.764706\n6   0.4  0.211420    0.50  0.823529\n7   0.4  0.401235    0.75  0.647059\n8   0.6  0.404321    0.25  0.588235\n9   0.2  0.583333    0.00  0.411765\n10  0.4  0.692901    0.25  0.176471\n11  0.6  0.881173    0.50  0.117647\n12  0.6  0.063272    0.75  0.941176\n13  1.0  0.609568    1.00  0.352941\n14  0.4  0.000000    0.25  1.000000\n15  0.6  0.631173    0.50  0.294118\n16  0.0  0.560185    0.00  0.470588\n17  1.0  1.000000    0.75  0.000000\n"
     ]
    }
   ],
   "source": [
    "print(X)\n",
    "\n",
    "# data normalization with sklearn\n",
    "from sklearn.preprocessing import MinMaxScaler\n",
    "\n",
    "# fit scaler on training data\n",
    "norm = MinMaxScaler().fit(X)\n",
    "\n",
    "# transform training data\n",
    "X_norm = norm.transform(X)\n",
    "\n",
    "X_norm = pd.DataFrame(data=X_norm, columns=['Age','Marks','Awards','Position'])\n",
    "\n",
    "print()\n",
    "print(X_norm)"
   ]
  },
  {
   "cell_type": "markdown",
   "id": "add1a6b6",
   "metadata": {},
   "source": [
    "### 3.1.3. Z-score Normalization <a name=\"z-score\"></a>\n",
    "To normalize your data, we import the **StandardScalar** from the **_sklearn_** library and apply it to our dataset. "
   ]
  },
  {
   "cell_type": "code",
   "execution_count": 6,
   "id": "de3c91bd",
   "metadata": {},
   "outputs": [
    {
     "name": "stdout",
     "output_type": "stream",
     "text": [
      "    Age  Marks  Awards  Position\n",
      "0    16   70.0       3         5\n",
      "1    17   60.5       5        10\n",
      "2    15   90.2       4         2\n",
      "3    14   50.8       2        13\n",
      "4    18   40.0       1        16\n",
      "5    13   42.3       2        14\n",
      "6    15   41.6       3        15\n",
      "7    15   53.9       4        12\n",
      "8    16   54.1       2        11\n",
      "9    14   65.7       1         8\n",
      "10   15   72.8       2         4\n",
      "11   16   85.0       3         3\n",
      "12   16   32.0       4        17\n",
      "13   18   67.4       5         7\n",
      "14   15   27.9       2        18\n",
      "15   16   68.8       3         6\n",
      "16   13   64.2       1         9\n",
      "17   18   92.7       4         1\n",
      "\n",
      "         Age     Marks    Awards  Position\n",
      "0   0.296500  0.544603  0.132453 -0.867365\n",
      "1   0.963624  0.027517  1.721892  0.096374\n",
      "2  -0.370625  1.644092  0.927173 -1.445608\n",
      "3  -1.037749 -0.500455 -0.662266  0.674617\n",
      "4   1.630748 -1.088300 -1.456986  1.252861\n",
      "5  -1.704873 -0.963110 -0.662266  0.867365\n",
      "6  -0.370625 -1.001212  0.132453  1.060113\n",
      "7  -0.370625 -0.331721  0.927173  0.481869\n",
      "8   0.296500 -0.320835 -0.662266  0.289122\n",
      "9  -1.037749  0.310554 -1.456986 -0.289122\n",
      "10 -0.370625  0.697008 -0.662266 -1.060113\n",
      "11  0.296500  1.361055  0.132453 -1.252861\n",
      "12  0.296500 -1.523741  0.927173  1.445608\n",
      "13  1.630748  0.403085  1.721892 -0.481869\n",
      "14 -0.370625 -1.746904 -0.662266  1.638356\n",
      "15  0.296500  0.479287  0.132453 -0.674617\n",
      "16 -1.704873  0.228909 -1.456986 -0.096374\n",
      "17  1.630748  1.780167  0.927173 -1.638356\n"
     ]
    }
   ],
   "source": [
    "print(X)\n",
    "\n",
    "from sklearn.preprocessing import StandardScaler\n",
    "\n",
    "# copy of datasets\n",
    "X_stand = X.copy()\n",
    "\n",
    "# apply standardization on numerical features\n",
    "for var in X_stand:\n",
    "    \n",
    "    # fit on training data column\n",
    "    scale = StandardScaler().fit(X_stand[[var]])\n",
    "    \n",
    "    # transform the training data column\n",
    "    X_stand[var] = scale.transform(X_stand[[var]])\n",
    "\n",
    "    \n",
    "X_stand = pd.DataFrame(data=X_stand, columns=['Age','Marks','Awards','Position'])\n",
    "\n",
    "print()\n",
    "print(X_stand)"
   ]
  },
  {
   "cell_type": "markdown",
   "id": "e8bdd9d4",
   "metadata": {},
   "source": [
    "## 3.2. Feature Discretization <a name=\"discretization\"></a>\n",
    "\n",
    "In this section, we discretisize the dummy data set using the following techniques:\n",
    "\n",
    "1. Binning\n",
    "2. Histogram Analysis\n",
    "3. Clustering\n",
    "\n",
    "### 3.2.1. Binning Technique <a name=\"binning\"></a>\n",
    "We use Pandas **_cut()_** function to categorize **Marks** variable into 4 bins:\n",
    "* 0-40\n",
    "* 40-50\n",
    "* 50-70\n",
    "* 70-100\n",
    "\n",
    "We save the discretized data into a new variable **Grade**."
   ]
  },
  {
   "cell_type": "code",
   "execution_count": 13,
   "id": "aa1abdd3",
   "metadata": {},
   "outputs": [
    {
     "output_type": "execute_result",
     "data": {
      "text/plain": [
       "   Gender  Age  Marks Scholarship  Awards  Position      Range\n",
       "0       M   16   70.0           N       3         5   (50, 70]\n",
       "1       F   17   60.5           Y       5        10   (50, 70]\n",
       "2       F   15   90.2           Y       4         2  (70, 100]\n",
       "3       M   14   50.8           Y       2        13   (50, 70]\n",
       "4       M   18   40.0           Y       1        16    (0, 40]\n",
       "5       F   13   42.3           Y       2        14   (40, 50]\n",
       "6       M   15   41.6           N       3        15   (40, 50]\n",
       "7       M   15   53.9           N       4        12   (50, 70]\n",
       "8       M   16   54.1           Y       2        11   (50, 70]\n",
       "9       F   14   65.7           N       1         8   (50, 70]\n",
       "10      F   15   72.8           Y       2         4  (70, 100]\n",
       "11      F   16   85.0           N       3         3  (70, 100]\n",
       "12      M   16   32.0           Y       4        17    (0, 40]\n",
       "13      M   18   67.4           N       5         7   (50, 70]\n",
       "14      F   15   27.9           N       2        18    (0, 40]\n",
       "15      M   16   68.8           Y       3         6   (50, 70]\n",
       "16      F   13   64.2           Y       1         9   (50, 70]\n",
       "17      F   18   92.7           Y       4         1  (70, 100]"
      ],
      "text/html": "<div>\n<style scoped>\n    .dataframe tbody tr th:only-of-type {\n        vertical-align: middle;\n    }\n\n    .dataframe tbody tr th {\n        vertical-align: top;\n    }\n\n    .dataframe thead th {\n        text-align: right;\n    }\n</style>\n<table border=\"1\" class=\"dataframe\">\n  <thead>\n    <tr style=\"text-align: right;\">\n      <th></th>\n      <th>Gender</th>\n      <th>Age</th>\n      <th>Marks</th>\n      <th>Scholarship</th>\n      <th>Awards</th>\n      <th>Position</th>\n      <th>Range</th>\n    </tr>\n  </thead>\n  <tbody>\n    <tr>\n      <th>0</th>\n      <td>M</td>\n      <td>16</td>\n      <td>70.0</td>\n      <td>N</td>\n      <td>3</td>\n      <td>5</td>\n      <td>(50, 70]</td>\n    </tr>\n    <tr>\n      <th>1</th>\n      <td>F</td>\n      <td>17</td>\n      <td>60.5</td>\n      <td>Y</td>\n      <td>5</td>\n      <td>10</td>\n      <td>(50, 70]</td>\n    </tr>\n    <tr>\n      <th>2</th>\n      <td>F</td>\n      <td>15</td>\n      <td>90.2</td>\n      <td>Y</td>\n      <td>4</td>\n      <td>2</td>\n      <td>(70, 100]</td>\n    </tr>\n    <tr>\n      <th>3</th>\n      <td>M</td>\n      <td>14</td>\n      <td>50.8</td>\n      <td>Y</td>\n      <td>2</td>\n      <td>13</td>\n      <td>(50, 70]</td>\n    </tr>\n    <tr>\n      <th>4</th>\n      <td>M</td>\n      <td>18</td>\n      <td>40.0</td>\n      <td>Y</td>\n      <td>1</td>\n      <td>16</td>\n      <td>(0, 40]</td>\n    </tr>\n    <tr>\n      <th>5</th>\n      <td>F</td>\n      <td>13</td>\n      <td>42.3</td>\n      <td>Y</td>\n      <td>2</td>\n      <td>14</td>\n      <td>(40, 50]</td>\n    </tr>\n    <tr>\n      <th>6</th>\n      <td>M</td>\n      <td>15</td>\n      <td>41.6</td>\n      <td>N</td>\n      <td>3</td>\n      <td>15</td>\n      <td>(40, 50]</td>\n    </tr>\n    <tr>\n      <th>7</th>\n      <td>M</td>\n      <td>15</td>\n      <td>53.9</td>\n      <td>N</td>\n      <td>4</td>\n      <td>12</td>\n      <td>(50, 70]</td>\n    </tr>\n    <tr>\n      <th>8</th>\n      <td>M</td>\n      <td>16</td>\n      <td>54.1</td>\n      <td>Y</td>\n      <td>2</td>\n      <td>11</td>\n      <td>(50, 70]</td>\n    </tr>\n    <tr>\n      <th>9</th>\n      <td>F</td>\n      <td>14</td>\n      <td>65.7</td>\n      <td>N</td>\n      <td>1</td>\n      <td>8</td>\n      <td>(50, 70]</td>\n    </tr>\n    <tr>\n      <th>10</th>\n      <td>F</td>\n      <td>15</td>\n      <td>72.8</td>\n      <td>Y</td>\n      <td>2</td>\n      <td>4</td>\n      <td>(70, 100]</td>\n    </tr>\n    <tr>\n      <th>11</th>\n      <td>F</td>\n      <td>16</td>\n      <td>85.0</td>\n      <td>N</td>\n      <td>3</td>\n      <td>3</td>\n      <td>(70, 100]</td>\n    </tr>\n    <tr>\n      <th>12</th>\n      <td>M</td>\n      <td>16</td>\n      <td>32.0</td>\n      <td>Y</td>\n      <td>4</td>\n      <td>17</td>\n      <td>(0, 40]</td>\n    </tr>\n    <tr>\n      <th>13</th>\n      <td>M</td>\n      <td>18</td>\n      <td>67.4</td>\n      <td>N</td>\n      <td>5</td>\n      <td>7</td>\n      <td>(50, 70]</td>\n    </tr>\n    <tr>\n      <th>14</th>\n      <td>F</td>\n      <td>15</td>\n      <td>27.9</td>\n      <td>N</td>\n      <td>2</td>\n      <td>18</td>\n      <td>(0, 40]</td>\n    </tr>\n    <tr>\n      <th>15</th>\n      <td>M</td>\n      <td>16</td>\n      <td>68.8</td>\n      <td>Y</td>\n      <td>3</td>\n      <td>6</td>\n      <td>(50, 70]</td>\n    </tr>\n    <tr>\n      <th>16</th>\n      <td>F</td>\n      <td>13</td>\n      <td>64.2</td>\n      <td>Y</td>\n      <td>1</td>\n      <td>9</td>\n      <td>(50, 70]</td>\n    </tr>\n    <tr>\n      <th>17</th>\n      <td>F</td>\n      <td>18</td>\n      <td>92.7</td>\n      <td>Y</td>\n      <td>4</td>\n      <td>1</td>\n      <td>(70, 100]</td>\n    </tr>\n  </tbody>\n</table>\n</div>"
     },
     "metadata": {},
     "execution_count": 13
    }
   ],
   "source": [
    "df['Range']=pd.cut(x=df['Marks'], bins=[0,40,50,70,100])\n",
    "df"
   ]
  },
  {
   "cell_type": "markdown",
   "id": "70177db7",
   "metadata": {},
   "source": [
    "We add labels to the categories and save them in variable **Label**"
   ]
  },
  {
   "cell_type": "code",
   "execution_count": 8,
   "id": "cea10fa5",
   "metadata": {},
   "outputs": [
    {
     "data": {
      "text/html": [
       "<div>\n",
       "<style scoped>\n",
       "    .dataframe tbody tr th:only-of-type {\n",
       "        vertical-align: middle;\n",
       "    }\n",
       "\n",
       "    .dataframe tbody tr th {\n",
       "        vertical-align: top;\n",
       "    }\n",
       "\n",
       "    .dataframe thead th {\n",
       "        text-align: right;\n",
       "    }\n",
       "</style>\n",
       "<table border=\"1\" class=\"dataframe\">\n",
       "  <thead>\n",
       "    <tr style=\"text-align: right;\">\n",
       "      <th></th>\n",
       "      <th>Gender</th>\n",
       "      <th>Age</th>\n",
       "      <th>Marks</th>\n",
       "      <th>Scholarship</th>\n",
       "      <th>Awards</th>\n",
       "      <th>Position</th>\n",
       "      <th>Range</th>\n",
       "      <th>Label</th>\n",
       "    </tr>\n",
       "  </thead>\n",
       "  <tbody>\n",
       "    <tr>\n",
       "      <th>0</th>\n",
       "      <td>M</td>\n",
       "      <td>16</td>\n",
       "      <td>70.0</td>\n",
       "      <td>N</td>\n",
       "      <td>3</td>\n",
       "      <td>5</td>\n",
       "      <td>(50, 70]</td>\n",
       "      <td>B</td>\n",
       "    </tr>\n",
       "    <tr>\n",
       "      <th>1</th>\n",
       "      <td>F</td>\n",
       "      <td>17</td>\n",
       "      <td>60.5</td>\n",
       "      <td>Y</td>\n",
       "      <td>5</td>\n",
       "      <td>10</td>\n",
       "      <td>(50, 70]</td>\n",
       "      <td>B</td>\n",
       "    </tr>\n",
       "    <tr>\n",
       "      <th>2</th>\n",
       "      <td>F</td>\n",
       "      <td>15</td>\n",
       "      <td>90.2</td>\n",
       "      <td>Y</td>\n",
       "      <td>4</td>\n",
       "      <td>2</td>\n",
       "      <td>(70, 100]</td>\n",
       "      <td>A</td>\n",
       "    </tr>\n",
       "    <tr>\n",
       "      <th>3</th>\n",
       "      <td>M</td>\n",
       "      <td>14</td>\n",
       "      <td>50.8</td>\n",
       "      <td>Y</td>\n",
       "      <td>2</td>\n",
       "      <td>13</td>\n",
       "      <td>(50, 70]</td>\n",
       "      <td>B</td>\n",
       "    </tr>\n",
       "    <tr>\n",
       "      <th>4</th>\n",
       "      <td>M</td>\n",
       "      <td>18</td>\n",
       "      <td>40.0</td>\n",
       "      <td>Y</td>\n",
       "      <td>1</td>\n",
       "      <td>16</td>\n",
       "      <td>(0, 40]</td>\n",
       "      <td>D</td>\n",
       "    </tr>\n",
       "    <tr>\n",
       "      <th>5</th>\n",
       "      <td>F</td>\n",
       "      <td>13</td>\n",
       "      <td>42.3</td>\n",
       "      <td>Y</td>\n",
       "      <td>2</td>\n",
       "      <td>14</td>\n",
       "      <td>(40, 50]</td>\n",
       "      <td>C</td>\n",
       "    </tr>\n",
       "    <tr>\n",
       "      <th>6</th>\n",
       "      <td>M</td>\n",
       "      <td>15</td>\n",
       "      <td>41.6</td>\n",
       "      <td>N</td>\n",
       "      <td>3</td>\n",
       "      <td>15</td>\n",
       "      <td>(40, 50]</td>\n",
       "      <td>C</td>\n",
       "    </tr>\n",
       "    <tr>\n",
       "      <th>7</th>\n",
       "      <td>M</td>\n",
       "      <td>15</td>\n",
       "      <td>53.9</td>\n",
       "      <td>N</td>\n",
       "      <td>4</td>\n",
       "      <td>12</td>\n",
       "      <td>(50, 70]</td>\n",
       "      <td>B</td>\n",
       "    </tr>\n",
       "    <tr>\n",
       "      <th>8</th>\n",
       "      <td>M</td>\n",
       "      <td>16</td>\n",
       "      <td>54.1</td>\n",
       "      <td>Y</td>\n",
       "      <td>2</td>\n",
       "      <td>11</td>\n",
       "      <td>(50, 70]</td>\n",
       "      <td>B</td>\n",
       "    </tr>\n",
       "    <tr>\n",
       "      <th>9</th>\n",
       "      <td>F</td>\n",
       "      <td>14</td>\n",
       "      <td>65.7</td>\n",
       "      <td>N</td>\n",
       "      <td>1</td>\n",
       "      <td>8</td>\n",
       "      <td>(50, 70]</td>\n",
       "      <td>B</td>\n",
       "    </tr>\n",
       "    <tr>\n",
       "      <th>10</th>\n",
       "      <td>F</td>\n",
       "      <td>15</td>\n",
       "      <td>72.8</td>\n",
       "      <td>Y</td>\n",
       "      <td>2</td>\n",
       "      <td>4</td>\n",
       "      <td>(70, 100]</td>\n",
       "      <td>A</td>\n",
       "    </tr>\n",
       "    <tr>\n",
       "      <th>11</th>\n",
       "      <td>F</td>\n",
       "      <td>16</td>\n",
       "      <td>85.0</td>\n",
       "      <td>N</td>\n",
       "      <td>3</td>\n",
       "      <td>3</td>\n",
       "      <td>(70, 100]</td>\n",
       "      <td>A</td>\n",
       "    </tr>\n",
       "    <tr>\n",
       "      <th>12</th>\n",
       "      <td>M</td>\n",
       "      <td>16</td>\n",
       "      <td>32.0</td>\n",
       "      <td>Y</td>\n",
       "      <td>4</td>\n",
       "      <td>17</td>\n",
       "      <td>(0, 40]</td>\n",
       "      <td>D</td>\n",
       "    </tr>\n",
       "    <tr>\n",
       "      <th>13</th>\n",
       "      <td>M</td>\n",
       "      <td>18</td>\n",
       "      <td>67.4</td>\n",
       "      <td>N</td>\n",
       "      <td>5</td>\n",
       "      <td>7</td>\n",
       "      <td>(50, 70]</td>\n",
       "      <td>B</td>\n",
       "    </tr>\n",
       "    <tr>\n",
       "      <th>14</th>\n",
       "      <td>F</td>\n",
       "      <td>15</td>\n",
       "      <td>27.9</td>\n",
       "      <td>N</td>\n",
       "      <td>2</td>\n",
       "      <td>18</td>\n",
       "      <td>(0, 40]</td>\n",
       "      <td>D</td>\n",
       "    </tr>\n",
       "    <tr>\n",
       "      <th>15</th>\n",
       "      <td>M</td>\n",
       "      <td>16</td>\n",
       "      <td>68.8</td>\n",
       "      <td>Y</td>\n",
       "      <td>3</td>\n",
       "      <td>6</td>\n",
       "      <td>(50, 70]</td>\n",
       "      <td>B</td>\n",
       "    </tr>\n",
       "    <tr>\n",
       "      <th>16</th>\n",
       "      <td>F</td>\n",
       "      <td>13</td>\n",
       "      <td>64.2</td>\n",
       "      <td>Y</td>\n",
       "      <td>1</td>\n",
       "      <td>9</td>\n",
       "      <td>(50, 70]</td>\n",
       "      <td>B</td>\n",
       "    </tr>\n",
       "    <tr>\n",
       "      <th>17</th>\n",
       "      <td>F</td>\n",
       "      <td>18</td>\n",
       "      <td>92.7</td>\n",
       "      <td>Y</td>\n",
       "      <td>4</td>\n",
       "      <td>1</td>\n",
       "      <td>(70, 100]</td>\n",
       "      <td>A</td>\n",
       "    </tr>\n",
       "  </tbody>\n",
       "</table>\n",
       "</div>"
      ],
      "text/plain": [
       "   Gender  Age  Marks Scholarship  Awards  Position      Range Label\n",
       "0       M   16   70.0           N       3         5   (50, 70]     B\n",
       "1       F   17   60.5           Y       5        10   (50, 70]     B\n",
       "2       F   15   90.2           Y       4         2  (70, 100]     A\n",
       "3       M   14   50.8           Y       2        13   (50, 70]     B\n",
       "4       M   18   40.0           Y       1        16    (0, 40]     D\n",
       "5       F   13   42.3           Y       2        14   (40, 50]     C\n",
       "6       M   15   41.6           N       3        15   (40, 50]     C\n",
       "7       M   15   53.9           N       4        12   (50, 70]     B\n",
       "8       M   16   54.1           Y       2        11   (50, 70]     B\n",
       "9       F   14   65.7           N       1         8   (50, 70]     B\n",
       "10      F   15   72.8           Y       2         4  (70, 100]     A\n",
       "11      F   16   85.0           N       3         3  (70, 100]     A\n",
       "12      M   16   32.0           Y       4        17    (0, 40]     D\n",
       "13      M   18   67.4           N       5         7   (50, 70]     B\n",
       "14      F   15   27.9           N       2        18    (0, 40]     D\n",
       "15      M   16   68.8           Y       3         6   (50, 70]     B\n",
       "16      F   13   64.2           Y       1         9   (50, 70]     B\n",
       "17      F   18   92.7           Y       4         1  (70, 100]     A"
      ]
     },
     "execution_count": 8,
     "metadata": {},
     "output_type": "execute_result"
    }
   ],
   "source": [
    "df['Label']=pd.cut(x = df['Marks'],\n",
    "                        bins = [0,40,50,70,150], \n",
    "                        labels = ['D', 'C', 'B', 'A'])\n",
    "df"
   ]
  },
  {
   "cell_type": "markdown",
   "id": "4d615023",
   "metadata": {},
   "source": [
    "### 3.2.2. Histogram Analysis <a name=\"histogram\"></a>\n",
    "The **Marks** variable is continuos. We plot a histogram to see how it would like in a discrete form.\n"
   ]
  },
  {
   "cell_type": "code",
   "execution_count": 9,
   "id": "4adcd73b",
   "metadata": {},
   "outputs": [
    {
     "name": "stdout",
     "output_type": "stream",
     "text": [
      "0     70.0\n",
      "1     60.5\n",
      "2     90.2\n",
      "3     50.8\n",
      "4     40.0\n",
      "5     42.3\n",
      "6     41.6\n",
      "7     53.9\n",
      "8     54.1\n",
      "9     65.7\n",
      "10    72.8\n",
      "11    85.0\n",
      "12    32.0\n",
      "13    67.4\n",
      "14    27.9\n",
      "15    68.8\n",
      "16    64.2\n",
      "17    92.7\n",
      "Name: Marks, dtype: float64\n"
     ]
    },
    {
     "data": {
      "image/png": "[encoded data removed]",
      "text/plain": [
       "<Figure size 432x288 with 1 Axes>"
      ]
     },
     "metadata": {
      "needs_background": "light"
     },
     "output_type": "display_data"
    }
   ],
   "source": [
    "print(df['Marks'])\n",
    "plt.plot(range(18), df['Marks'])\n",
    "plt.show()"
   ]
  },
  {
   "cell_type": "code",
   "execution_count": 10,
   "id": "83d97aa1",
   "metadata": {},
   "outputs": [
    {
     "data": {
      "image/png": "[encoded data removed]",
      "text/plain": [
       "<Figure size 432x288 with 1 Axes>"
      ]
     },
     "metadata": {
      "needs_background": "light"
     },
     "output_type": "display_data"
    }
   ],
   "source": [
    "n,x,_ = plt.hist(df['Marks'])\n",
    "\n",
    "bin_centers = 0.5*(x[1:]+x[:-1])\n",
    "plt.plot(bin_centers,n) ## using bin_centers rather than edges\n",
    "\n",
    "plt.show()"
   ]
  },
  {
   "cell_type": "markdown",
   "id": "8f3add7b",
   "metadata": {},
   "source": [
    "### 3.2.3. Clustering <a name=\"clustering\"></a>\n",
    "We applying k-means clustering to the continuous **Age, Marks, Awards, Position** variables to form clusters; and each cluster is considered as a bin.\n",
    "\n",
    "* We plot a scatter plot of **Marks** variable against itself to observe the clusters."
   ]
  },
  {
   "cell_type": "code",
   "execution_count": 11,
   "id": "c3a3777d",
   "metadata": {},
   "outputs": [
    {
     "data": {
      "text/plain": [
       "<AxesSubplot:xlabel='Marks', ylabel='Marks'>"
      ]
     },
     "execution_count": 11,
     "metadata": {},
     "output_type": "execute_result"
    },
    {
     "data": {
      "image/png": "[encoded data removed]",
      "text/plain": [
       "<Figure size 432x288 with 1 Axes>"
      ]
     },
     "metadata": {
      "needs_background": "light"
     },
     "output_type": "display_data"
    }
   ],
   "source": [
    "sns.scatterplot(data=df, x='Marks', y='Marks')"
   ]
  },
  {
   "cell_type": "markdown",
   "id": "bf49aaf9",
   "metadata": {},
   "source": [
    "To discretize our data, we import the **KBinsDiscretizer** from the **_sklearn_** library and apply it to our dataset.\n",
    "\n",
    "* We first choose 5 clusters (data will be grouped into 5 clusters depending on similarity). We can change this number to gain more granularity."
   ]
  },
  {
   "cell_type": "code",
   "execution_count": 12,
   "id": "1faa40d3",
   "metadata": {},
   "outputs": [
    {
     "name": "stdout",
     "output_type": "stream",
     "text": [
      "    Age  Marks  Awards  Position\n",
      "0    16   70.0       3         5\n",
      "1    17   60.5       5        10\n",
      "2    15   90.2       4         2\n",
      "3    14   50.8       2        13\n",
      "4    18   40.0       1        16\n",
      "5    13   42.3       2        14\n",
      "6    15   41.6       3        15\n",
      "7    15   53.9       4        12\n",
      "8    16   54.1       2        11\n",
      "9    14   65.7       1         8\n",
      "10   15   72.8       2         4\n",
      "11   16   85.0       3         3\n",
      "12   16   32.0       4        17\n",
      "13   18   67.4       5         7\n",
      "14   15   27.9       2        18\n",
      "15   16   68.8       3         6\n",
      "16   13   64.2       1         9\n",
      "17   18   92.7       4         1\n",
      "\n",
      "    Age  Marks  Awards  Position\n",
      "0   2.0    3.0     2.0       1.0\n",
      "1   3.0    2.0     4.0       2.0\n",
      "2   1.0    4.0     3.0       0.0\n",
      "3   0.0    2.0     1.0       3.0\n",
      "4   4.0    1.0     0.0       4.0\n",
      "5   0.0    1.0     1.0       3.0\n",
      "6   1.0    1.0     2.0       4.0\n",
      "7   1.0    2.0     3.0       3.0\n",
      "8   2.0    2.0     1.0       2.0\n",
      "9   0.0    3.0     0.0       2.0\n",
      "10  1.0    3.0     1.0       0.0\n",
      "11  2.0    4.0     2.0       0.0\n",
      "12  2.0    0.0     3.0       4.0\n",
      "13  4.0    3.0     4.0       1.0\n",
      "14  1.0    0.0     1.0       4.0\n",
      "15  2.0    3.0     2.0       1.0\n",
      "16  0.0    3.0     0.0       2.0\n",
      "17  4.0    4.0     3.0       0.0\n"
     ]
    }
   ],
   "source": [
    "print(X)\n",
    "\n",
    "from sklearn.preprocessing import KBinsDiscretizer\n",
    "\n",
    "\n",
    "# create the discretizer object with strategy quantile and 8 bins\n",
    "discretizer = KBinsDiscretizer(n_bins=5, encode='ordinal', strategy='kmeans') \n",
    "\n",
    "# fit the discretizer to the train set\n",
    "discretizer.fit(X)\n",
    "\n",
    "# apply the discretisation\n",
    "X_cluster = discretizer.transform(X)\n",
    "\n",
    "X_cluster = pd.DataFrame(data=X_cluster, columns=['Age','Marks','Awards','Position'])\n",
    "\n",
    "print()\n",
    "print(X_cluster)"
   ]
  },
  {
   "cell_type": "markdown",
   "id": "b371f5d2-fb83-4db1-8524-f085c309da21",
   "metadata": {},
   "source": [
    "# 4. Exercise: Feature Transformation on UCI Data set <a name=\"exercise\"></a>\n",
    "The [PRSA_Data.csv](../OLAP/PRSA_Data.csv) is retrieved from [UCI Data Repository](https://archive.ics.uci.edu/ml/datasets/Beijing+Multi-Site+Air-Quality+Data). The data (**Beijing Multi-Site Air-Quality Data Data Set**): is hourly data set considers 6 main air pollutants and 6 relevant meteorological variables at multiple sites in Beijing. Using this data set, apply:\n",
    "\n",
    "1. Feature normalization using *Z-Score* technique\n",
    "2. Feature discretization using *Binning* and *Clustering* techniques.\n"
   ]
  },
  {
   "cell_type": "code",
   "execution_count": null,
   "id": "52a6ae8e-9304-4869-adee-3b3ac405723b",
   "metadata": {},
   "outputs": [],
   "source": []
  }
 ],
 "metadata": {
  "kernelspec": {
   "name": "python3",
   "display_name": "Python 3.8.8 64-bit ('base': conda)"
  },
  "language_info": {
   "codemirror_mode": {
    "name": "ipython",
    "version": 3
   },
   "file_extension": ".py",
   "mimetype": "text/x-python",
   "name": "python",
   "nbconvert_exporter": "python",
   "pygments_lexer": "ipython3",
   "version": "3.8.8"
  },
  "interpreter": {
   "hash": "b3ba2566441a7c06988d0923437866b63cedc61552a5af99d1f4fb67d367b25f"
  }
 },
 "nbformat": 4,
 "nbformat_minor": 5
}