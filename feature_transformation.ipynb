{
 "metadata": {
  "language_info": {
   "codemirror_mode": {
    "name": "ipython",
    "version": 3
   },
   "file_extension": ".py",
   "mimetype": "text/x-python",
   "name": "python",
   "nbconvert_exporter": "python",
   "pygments_lexer": "ipython3",
   "version": "3.8.8"
  },
  "orig_nbformat": 4,
  "kernelspec": {
   "name": "python3",
   "display_name": "Python 3.8.8 64-bit ('base': conda)"
  },
  "interpreter": {
   "hash": "b3ba2566441a7c06988d0923437866b63cedc61552a5af99d1f4fb67d367b25f"
  }
 },
 "nbformat": 4,
 "nbformat_minor": 2,
 "cells": [
  {
   "source": [
    "79546 - Stephen Kipchirchir Ng'etich"
   ],
   "cell_type": "markdown",
   "metadata": {}
  },
  {
   "source": [
    "Import Modules"
   ],
   "cell_type": "markdown",
   "metadata": {}
  },
  {
   "cell_type": "code",
   "execution_count": 1,
   "metadata": {},
   "outputs": [],
   "source": [
    "import pandas as pd\n",
    "import numpy as np\n",
    "import matplotlib.pyplot as plt\n",
    "import seaborn as sns"
   ]
  },
  {
   "cell_type": "code",
   "execution_count": 2,
   "metadata": {},
   "outputs": [
    {
     "output_type": "execute_result",
     "data": {
      "text/plain": [
       "          No  year  month  day  hour  PM2.5  PM10   SO2   NO2     CO    O3  \\\n",
       "0          1  2013      3    1     0    4.0   4.0   4.0   7.0  300.0  77.0   \n",
       "1          2  2013      3    1     1    8.0   8.0   4.0   7.0  300.0  77.0   \n",
       "2          3  2013      3    1     2    7.0   7.0   5.0  10.0  300.0  73.0   \n",
       "3          4  2013      3    1     3    6.0   6.0  11.0  11.0  300.0  72.0   \n",
       "4          5  2013      3    1     4    3.0   3.0  12.0  12.0  300.0  72.0   \n",
       "...      ...   ...    ...  ...   ...    ...   ...   ...   ...    ...   ...   \n",
       "35059  35060  2017      2   28    19   12.0  29.0   5.0  35.0  400.0  95.0   \n",
       "35060  35061  2017      2   28    20   13.0  37.0   7.0  45.0  500.0  81.0   \n",
       "35061  35062  2017      2   28    21   16.0  37.0  10.0  66.0  700.0  58.0   \n",
       "35062  35063  2017      2   28    22   21.0  44.0  12.0  87.0  700.0  35.0   \n",
       "35063  35064  2017      2   28    23   19.0  31.0  10.0  79.0  600.0  42.0   \n",
       "\n",
       "       TEMP    PRES  DEWP  RAIN   wd  WSPM       station  \n",
       "0      -0.7  1023.0 -18.8   0.0  NNW   4.4  Aotizhongxin  \n",
       "1      -1.1  1023.2 -18.2   0.0    N   4.7  Aotizhongxin  \n",
       "2      -1.1  1023.5 -18.2   0.0  NNW   5.6  Aotizhongxin  \n",
       "3      -1.4  1024.5 -19.4   0.0   NW   3.1  Aotizhongxin  \n",
       "4      -2.0  1025.2 -19.5   0.0    N   2.0  Aotizhongxin  \n",
       "...     ...     ...   ...   ...  ...   ...           ...  \n",
       "35059  12.5  1013.5 -16.2   0.0   NW   2.4  Aotizhongxin  \n",
       "35060  11.6  1013.6 -15.1   0.0  WNW   0.9  Aotizhongxin  \n",
       "35061  10.8  1014.2 -13.3   0.0   NW   1.1  Aotizhongxin  \n",
       "35062  10.5  1014.4 -12.9   0.0  NNW   1.2  Aotizhongxin  \n",
       "35063   8.6  1014.1 -15.9   0.0  NNE   1.3  Aotizhongxin  \n",
       "\n",
       "[35064 rows x 18 columns]"
      ],
      "text/html": "<div>\n<style scoped>\n    .dataframe tbody tr th:only-of-type {\n        vertical-align: middle;\n    }\n\n    .dataframe tbody tr th {\n        vertical-align: top;\n    }\n\n    .dataframe thead th {\n        text-align: right;\n    }\n</style>\n<table border=\"1\" class=\"dataframe\">\n  <thead>\n    <tr style=\"text-align: right;\">\n      <th></th>\n      <th>No</th>\n      <th>year</th>\n      <th>month</th>\n      <th>day</th>\n      <th>hour</th>\n      <th>PM2.5</th>\n      <th>PM10</th>\n      <th>SO2</th>\n      <th>NO2</th>\n      <th>CO</th>\n      <th>O3</th>\n      <th>TEMP</th>\n      <th>PRES</th>\n      <th>DEWP</th>\n      <th>RAIN</th>\n      <th>wd</th>\n      <th>WSPM</th>\n      <th>station</th>\n    </tr>\n  </thead>\n  <tbody>\n    <tr>\n      <th>0</th>\n      <td>1</td>\n      <td>2013</td>\n      <td>3</td>\n      <td>1</td>\n      <td>0</td>\n      <td>4.0</td>\n      <td>4.0</td>\n      <td>4.0</td>\n      <td>7.0</td>\n      <td>300.0</td>\n      <td>77.0</td>\n      <td>-0.7</td>\n      <td>1023.0</td>\n      <td>-18.8</td>\n      <td>0.0</td>\n      <td>NNW</td>\n      <td>4.4</td>\n      <td>Aotizhongxin</td>\n    </tr>\n    <tr>\n      <th>1</th>\n      <td>2</td>\n      <td>2013</td>\n      <td>3</td>\n      <td>1</td>\n      <td>1</td>\n      <td>8.0</td>\n      <td>8.0</td>\n      <td>4.0</td>\n      <td>7.0</td>\n      <td>300.0</td>\n      <td>77.0</td>\n      <td>-1.1</td>\n      <td>1023.2</td>\n      <td>-18.2</td>\n      <td>0.0</td>\n      <td>N</td>\n      <td>4.7</td>\n      <td>Aotizhongxin</td>\n    </tr>\n    <tr>\n      <th>2</th>\n      <td>3</td>\n      <td>2013</td>\n      <td>3</td>\n      <td>1</td>\n      <td>2</td>\n      <td>7.0</td>\n      <td>7.0</td>\n      <td>5.0</td>\n      <td>10.0</td>\n      <td>300.0</td>\n      <td>73.0</td>\n      <td>-1.1</td>\n      <td>1023.5</td>\n      <td>-18.2</td>\n      <td>0.0</td>\n      <td>NNW</td>\n      <td>5.6</td>\n      <td>Aotizhongxin</td>\n    </tr>\n    <tr>\n      <th>3</th>\n      <td>4</td>\n      <td>2013</td>\n      <td>3</td>\n      <td>1</td>\n      <td>3</td>\n      <td>6.0</td>\n      <td>6.0</td>\n      <td>11.0</td>\n      <td>11.0</td>\n      <td>300.0</td>\n      <td>72.0</td>\n      <td>-1.4</td>\n      <td>1024.5</td>\n      <td>-19.4</td>\n      <td>0.0</td>\n      <td>NW</td>\n      <td>3.1</td>\n      <td>Aotizhongxin</td>\n    </tr>\n    <tr>\n      <th>4</th>\n      <td>5</td>\n      <td>2013</td>\n      <td>3</td>\n      <td>1</td>\n      <td>4</td>\n      <td>3.0</td>\n      <td>3.0</td>\n      <td>12.0</td>\n      <td>12.0</td>\n      <td>300.0</td>\n      <td>72.0</td>\n      <td>-2.0</td>\n      <td>1025.2</td>\n      <td>-19.5</td>\n      <td>0.0</td>\n      <td>N</td>\n      <td>2.0</td>\n      <td>Aotizhongxin</td>\n    </tr>\n    <tr>\n      <th>...</th>\n      <td>...</td>\n      <td>...</td>\n      <td>...</td>\n      <td>...</td>\n      <td>...</td>\n      <td>...</td>\n      <td>...</td>\n      <td>...</td>\n      <td>...</td>\n      <td>...</td>\n      <td>...</td>\n      <td>...</td>\n      <td>...</td>\n      <td>...</td>\n      <td>...</td>\n      <td>...</td>\n      <td>...</td>\n      <td>...</td>\n    </tr>\n    <tr>\n      <th>35059</th>\n      <td>35060</td>\n      <td>2017</td>\n      <td>2</td>\n      <td>28</td>\n      <td>19</td>\n      <td>12.0</td>\n      <td>29.0</td>\n      <td>5.0</td>\n      <td>35.0</td>\n      <td>400.0</td>\n      <td>95.0</td>\n      <td>12.5</td>\n      <td>1013.5</td>\n      <td>-16.2</td>\n      <td>0.0</td>\n      <td>NW</td>\n      <td>2.4</td>\n      <td>Aotizhongxin</td>\n    </tr>\n    <tr>\n      <th>35060</th>\n      <td>35061</td>\n      <td>2017</td>\n      <td>2</td>\n      <td>28</td>\n      <td>20</td>\n      <td>13.0</td>\n      <td>37.0</td>\n      <td>7.0</td>\n      <td>45.0</td>\n      <td>500.0</td>\n      <td>81.0</td>\n      <td>11.6</td>\n      <td>1013.6</td>\n      <td>-15.1</td>\n      <td>0.0</td>\n      <td>WNW</td>\n      <td>0.9</td>\n      <td>Aotizhongxin</td>\n    </tr>\n    <tr>\n      <th>35061</th>\n      <td>35062</td>\n      <td>2017</td>\n      <td>2</td>\n      <td>28</td>\n      <td>21</td>\n      <td>16.0</td>\n      <td>37.0</td>\n      <td>10.0</td>\n      <td>66.0</td>\n      <td>700.0</td>\n      <td>58.0</td>\n      <td>10.8</td>\n      <td>1014.2</td>\n      <td>-13.3</td>\n      <td>0.0</td>\n      <td>NW</td>\n      <td>1.1</td>\n      <td>Aotizhongxin</td>\n    </tr>\n    <tr>\n      <th>35062</th>\n      <td>35063</td>\n      <td>2017</td>\n      <td>2</td>\n      <td>28</td>\n      <td>22</td>\n      <td>21.0</td>\n      <td>44.0</td>\n      <td>12.0</td>\n      <td>87.0</td>\n      <td>700.0</td>\n      <td>35.0</td>\n      <td>10.5</td>\n      <td>1014.4</td>\n      <td>-12.9</td>\n      <td>0.0</td>\n      <td>NNW</td>\n      <td>1.2</td>\n      <td>Aotizhongxin</td>\n    </tr>\n    <tr>\n      <th>35063</th>\n      <td>35064</td>\n      <td>2017</td>\n      <td>2</td>\n      <td>28</td>\n      <td>23</td>\n      <td>19.0</td>\n      <td>31.0</td>\n      <td>10.0</td>\n      <td>79.0</td>\n      <td>600.0</td>\n      <td>42.0</td>\n      <td>8.6</td>\n      <td>1014.1</td>\n      <td>-15.9</td>\n      <td>0.0</td>\n      <td>NNE</td>\n      <td>1.3</td>\n      <td>Aotizhongxin</td>\n    </tr>\n  </tbody>\n</table>\n<p>35064 rows × 18 columns</p>\n</div>"
     },
     "metadata": {},
     "execution_count": 2
    }
   ],
   "source": [
    "df = pd.read_csv('PRSA_Data.csv', sep=',')\n",
    "df"
   ]
  },
  {
   "cell_type": "code",
   "execution_count": 3,
   "metadata": {},
   "outputs": [
    {
     "output_type": "stream",
     "name": "stdout",
     "text": [
      "       PM2.5  PM10   SO2   NO2     CO    O3  TEMP    PRES  RAIN  WSPM\n0        4.0   4.0   4.0   7.0  300.0  77.0  -0.7  1023.0   0.0   4.4\n1        8.0   8.0   4.0   7.0  300.0  77.0  -1.1  1023.2   0.0   4.7\n2        7.0   7.0   5.0  10.0  300.0  73.0  -1.1  1023.5   0.0   5.6\n3        6.0   6.0  11.0  11.0  300.0  72.0  -1.4  1024.5   0.0   3.1\n4        3.0   3.0  12.0  12.0  300.0  72.0  -2.0  1025.2   0.0   2.0\n...      ...   ...   ...   ...    ...   ...   ...     ...   ...   ...\n35059   12.0  29.0   5.0  35.0  400.0  95.0  12.5  1013.5   0.0   2.4\n35060   13.0  37.0   7.0  45.0  500.0  81.0  11.6  1013.6   0.0   0.9\n35061   16.0  37.0  10.0  66.0  700.0  58.0  10.8  1014.2   0.0   1.1\n35062   21.0  44.0  12.0  87.0  700.0  35.0  10.5  1014.4   0.0   1.2\n35063   19.0  31.0  10.0  79.0  600.0  42.0   8.6  1014.1   0.0   1.3\n\n[35064 rows x 10 columns]\n"
     ]
    }
   ],
   "source": [
    "num_row =  df[['PM2.5','PM10', 'SO2', 'NO2' , 'CO','O3','TEMP','PRES','RAIN','WSPM']]\n",
    "print(num_row)"
   ]
  },
  {
   "source": [
    "### Feature normalization using Z-Score technique"
   ],
   "cell_type": "markdown",
   "metadata": {}
  },
  {
   "cell_type": "code",
   "execution_count": 6,
   "metadata": {},
   "outputs": [
    {
     "output_type": "stream",
     "name": "stdout",
     "text": [
      "       PM2.5  PM10   SO2   NO2     CO    O3  TEMP    PRES  RAIN  WSPM\n0        4.0   4.0   4.0   7.0  300.0  77.0  -0.7  1023.0   0.0   4.4\n1        8.0   8.0   4.0   7.0  300.0  77.0  -1.1  1023.2   0.0   4.7\n2        7.0   7.0   5.0  10.0  300.0  73.0  -1.1  1023.5   0.0   5.6\n3        6.0   6.0  11.0  11.0  300.0  72.0  -1.4  1024.5   0.0   3.1\n4        3.0   3.0  12.0  12.0  300.0  72.0  -2.0  1025.2   0.0   2.0\n...      ...   ...   ...   ...    ...   ...   ...     ...   ...   ...\n35059   12.0  29.0   5.0  35.0  400.0  95.0  12.5  1013.5   0.0   2.4\n35060   13.0  37.0   7.0  45.0  500.0  81.0  11.6  1013.6   0.0   0.9\n35061   16.0  37.0  10.0  66.0  700.0  58.0  10.8  1014.2   0.0   1.1\n35062   21.0  44.0  12.0  87.0  700.0  35.0  10.5  1014.4   0.0   1.2\n35063   19.0  31.0  10.0  79.0  600.0  42.0   8.6  1014.1   0.0   1.3\n\n[35064 rows x 10 columns]\n\n          PM2.5      PM10       SO2       NO2        CO        O3      TEMP  \\\n0     -0.959081 -1.113827 -0.586079 -1.409266 -0.788383  0.356496 -1.253153   \n1     -0.910380 -1.071820 -0.586079 -1.409266 -0.788383  0.356496 -1.288244   \n2     -0.922555 -1.082321 -0.542263 -1.328438 -0.788383  0.287430 -1.288244   \n3     -0.934730 -1.092823 -0.279367 -1.301495 -0.788383  0.270163 -1.314562   \n4     -0.971256 -1.124329 -0.235551 -1.274552 -0.788383  0.270163 -1.367199   \n...         ...       ...       ...       ...       ...       ...       ...   \n35059 -0.861680 -0.851281 -0.542263 -0.654867 -0.706511  0.667294 -0.095150   \n35060 -0.849504 -0.767267 -0.454631 -0.385439 -0.624639  0.425562 -0.174105   \n35061 -0.812979 -0.767267 -0.323183  0.180360 -0.460895  0.028432 -0.244287   \n35062 -0.752103 -0.693754 -0.235551  0.746159 -0.460895 -0.368699 -0.270605   \n35063 -0.776453 -0.830278 -0.323183  0.530616 -0.542767 -0.247833 -0.437287   \n\n           PRES      RAIN      WSPM  \n0      1.072010 -0.074085  2.235368  \n1      1.091233 -0.074085  2.484526  \n2      1.120069 -0.074085  3.232001  \n3      1.216186 -0.074085  1.155682  \n4      1.283469 -0.074085  0.242102  \n...         ...       ...       ...  \n35059  0.158890 -0.074085  0.574313  \n35060  0.168502 -0.074085 -0.671479  \n35061  0.226173 -0.074085 -0.505373  \n35062  0.245396 -0.074085 -0.422320  \n35063  0.216561 -0.074085 -0.339268  \n\n[35064 rows x 10 columns]\n"
     ]
    }
   ],
   "source": [
    "print(num_row)\n",
    "\n",
    "from sklearn.preprocessing import StandardScaler\n",
    "\n",
    "# copy of datasets\n",
    "num_row_copy= num_row.copy()\n",
    "\n",
    "# apply standardization on numerical features\n",
    "for var in num_row_copy:\n",
    "    \n",
    "    # fit on training data column\n",
    "    scale = StandardScaler().fit(num_row_copy[[var]])\n",
    "    \n",
    "    # transform the training data column\n",
    "    num_row_copy[var] = scale.transform(num_row_copy[[var]])\n",
    "\n",
    "    \n",
    "num_row_copy = pd.DataFrame(data=num_row_copy, columns=['PM2.5','PM10', 'SO2', 'NO2' , 'CO','O3','TEMP','PRES','RAIN','WSPM'])\n",
    "\n",
    "print()\n",
    "print(num_row_copy)"
   ]
  },
  {
   "source": [
    "### Feature discretization using *Binning* and *Clustering* techniques.\n"
   ],
   "cell_type": "markdown",
   "metadata": {}
  },
  {
   "cell_type": "code",
   "execution_count": null,
   "metadata": {},
   "outputs": [],
   "source": []
  }
 ]
}